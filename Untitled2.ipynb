{
  "nbformat": 4,
  "nbformat_minor": 0,
  "metadata": {
    "colab": {
      "name": "Untitled2.ipynb",
      "provenance": [],
      "authorship_tag": "ABX9TyNZbdwu2Iwg4WxeArQpUj4V",
      "include_colab_link": true
    },
    "kernelspec": {
      "name": "python3",
      "display_name": "Python 3"
    },
    "language_info": {
      "name": "python"
    }
  },
  "cells": [
    {
      "cell_type": "markdown",
      "metadata": {
        "id": "view-in-github",
        "colab_type": "text"
      },
      "source": [
        "<a href=\"https://colab.research.google.com/github/josephgeorge144/Python-Virtual-Assistant/blob/main/Untitled2.ipynb\" target=\"_parent\"><img src=\"https://colab.research.google.com/assets/colab-badge.svg\" alt=\"Open In Colab\"/></a>"
      ]
    },
    {
      "cell_type": "code",
      "metadata": {
        "colab": {
          "base_uri": "https://localhost:8080/"
        },
        "id": "DvYBWNiAlGbo",
        "outputId": "f4df03d1-eafc-4dc8-c4d4-7d1b2e38aa51"
      },
      "source": [
        "hrs = float(input(\"Enter Hours:\"))\n",
        "pay=float(input(\"rate:\"))\n",
        "Pay=pay*hrs\n",
        "print(\"Pay:\",Pay)"
      ],
      "execution_count": 4,
      "outputs": [
        {
          "output_type": "stream",
          "name": "stdout",
          "text": [
            "Enter Hours:35\n",
            "rate:2.75\n",
            "Pay: 96.25\n"
          ]
        }
      ]
    }
  ]
}